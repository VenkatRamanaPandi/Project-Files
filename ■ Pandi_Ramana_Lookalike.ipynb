{
 "cells": [
  {
   "cell_type": "code",
   "execution_count": 1,
   "id": "9e8b2b9c",
   "metadata": {},
   "outputs": [
    {
     "name": "stdout",
     "output_type": "stream",
     "text": [
      "Lookalike recommendations saved to 'FirstName_LastName_Lookalike.csv'\n"
     ]
    }
   ],
   "source": [
    "import pandas as pd\n",
    "from sklearn.metrics.pairwise import cosine_similarity\n",
    "from sklearn.preprocessing import StandardScaler\n",
    "\n",
    "# Load datasets\n",
    "customers = pd.read_csv(\"Customers.csv\")\n",
    "transactions = pd.read_csv(\"Transactions.csv\")\n",
    "products = pd.read_csv(\"Products.csv\")\n",
    "\n",
    "# ---- Data Preparation ----\n",
    "# Merge datasets to create customer profiles\n",
    "merged = transactions.merge(customers, on=\"CustomerID\").merge(products, on=\"ProductID\")\n",
    "\n",
    "# Create customer-level aggregated features\n",
    "customer_features = merged.groupby('CustomerID').agg(\n",
    "    TotalSpend=('TotalValue', 'sum'),\n",
    "    AverageSpend=('TotalValue', 'mean'),\n",
    "    TotalTransactions=('TransactionID', 'count'),\n",
    "    FavoriteCategory=('Category', lambda x: x.mode()[0] if not x.mode().empty else None)\n",
    ").reset_index()\n",
    "\n",
    "# One-hot encode the favorite product category\n",
    "customer_features = pd.get_dummies(customer_features, columns=['FavoriteCategory'], drop_first=True)\n",
    "\n",
    "# Normalize numerical features\n",
    "scaler = StandardScaler()\n",
    "numerical_columns = ['TotalSpend', 'AverageSpend', 'TotalTransactions']\n",
    "customer_features[numerical_columns] = scaler.fit_transform(customer_features[numerical_columns])\n",
    "\n",
    "# ---- Similarity Calculation ----\n",
    "# Compute cosine similarity matrix\n",
    "similarity_matrix = cosine_similarity(customer_features[numerical_columns])\n",
    "\n",
    "# Convert similarity matrix to a DataFrame for easy indexing\n",
    "similarity_df = pd.DataFrame(similarity_matrix, index=customer_features['CustomerID'], columns=customer_features['CustomerID'])\n",
    "\n",
    "# ---- Generate Recommendations ----\n",
    "# Function to get top N similar customers\n",
    "def get_top_similar(customers_df, customer_id, top_n=3):\n",
    "    scores = customers_df.loc[customer_id].sort_values(ascending=False)[1:top_n+1]  # Skip self-similarity\n",
    "    return [(index, round(score, 2)) for index, score in scores.items()]\n",
    "\n",
    "# Generate recommendations for first 20 customers (C0001 to C0020)\n",
    "lookalike_recommendations = {}\n",
    "for customer_id in customer_features['CustomerID'][:20]:\n",
    "    lookalike_recommendations[customer_id] = get_top_similar(similarity_df, customer_id)\n",
    "\n",
    "# ---- Save to CSV ----\n",
    "# Convert recommendations to the required format\n",
    "lookalike_list = []\n",
    "for cust_id, recommendations in lookalike_recommendations.items():\n",
    "    for similar_cust, score in recommendations:\n",
    "        lookalike_list.append({'CustomerID': cust_id, 'SimilarCustomer': similar_cust, 'Score': score})\n",
    "\n",
    "lookalike_df = pd.DataFrame(lookalike_list)\n",
    "lookalike_df.to_csv(\"FirstName_LastName_Lookalike.csv\", index=False)\n",
    "\n",
    "print(\"Lookalike recommendations saved to 'FirstName_LastName_Lookalike.csv'\")\n"
   ]
  },
  {
   "cell_type": "code",
   "execution_count": 2,
   "id": "6efecfa9",
   "metadata": {},
   "outputs": [
    {
     "name": "stdout",
     "output_type": "stream",
     "text": [
      "  CustomerID SimilarCustomer  Score\n",
      "0      C0001           C0137   1.00\n",
      "1      C0001           C0152   1.00\n",
      "2      C0001           C0121   0.99\n",
      "3      C0002           C0029   1.00\n",
      "4      C0002           C0199   1.00\n"
     ]
    }
   ],
   "source": [
    "import pandas as pd\n",
    "\n",
    "lookalike_output = pd.read_csv(\"FirstName_LastName_Lookalike.csv\")\n",
    "print(lookalike_output.head())\n"
   ]
  },
  {
   "cell_type": "code",
   "execution_count": null,
   "id": "23218a46",
   "metadata": {},
   "outputs": [],
   "source": []
  }
 ],
 "metadata": {
  "kernelspec": {
   "display_name": "Python 3 (ipykernel)",
   "language": "python",
   "name": "python3"
  },
  "language_info": {
   "codemirror_mode": {
    "name": "ipython",
    "version": 3
   },
   "file_extension": ".py",
   "mimetype": "text/x-python",
   "name": "python",
   "nbconvert_exporter": "python",
   "pygments_lexer": "ipython3",
   "version": "3.7.0"
  }
 },
 "nbformat": 4,
 "nbformat_minor": 5
}
